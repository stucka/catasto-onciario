{
 "cells": [
  {
   "cell_type": "code",
   "execution_count": 1,
   "metadata": {},
   "outputs": [],
   "source": [
    "from pyquery import PyQuery as pq\n",
    "import requests\n",
    "from tqdm import tqdm\n",
    "\n",
    "import os"
   ]
  },
  {
   "cell_type": "code",
   "execution_count": 2,
   "metadata": {},
   "outputs": [],
   "source": [
    "placeswanted = [\"Paola\", \"S. Fili\", \"Cervicati\"]"
   ]
  },
  {
   "cell_type": "code",
   "execution_count": 3,
   "metadata": {},
   "outputs": [],
   "source": [
    "starturl = \"http://www.onciario.beniculturali.it/?page_id=7#contenuto\"\n",
    "baseurl = \"http://www.onciario.beniculturali.it\""
   ]
  },
  {
   "cell_type": "code",
   "execution_count": 4,
   "metadata": {},
   "outputs": [],
   "source": [
    "downloaddir = \"downloads/\"\n",
    "for placewanted in placeswanted:\n",
    "    os.makedirs(downloaddir + placewanted, exist_ok=True)"
   ]
  },
  {
   "cell_type": "code",
   "execution_count": 7,
   "metadata": {},
   "outputs": [],
   "source": [
    "r = requests.get(starturl)\n",
    "starthtml = r.content"
   ]
  },
  {
   "cell_type": "code",
   "execution_count": null,
   "metadata": {},
   "outputs": [
    {
     "name": "stdout",
     "output_type": "stream",
     "text": [
      "Trying to parse files for Paola\n"
     ]
    },
    {
     "name": "stderr",
     "output_type": "stream",
     "text": [
      " 30%|████████████████████████▏                                                       | 113/373 [03:59<10:07,  2.34s/it]"
     ]
    }
   ],
   "source": [
    "for placewanted in placeswanted:\n",
    "    placeurl = None\n",
    "    placeslinks = pq(starthtml)(\"a.ngg-album-desc\")\n",
    "    for placelink in pq(placeslinks)(\"a\"):\n",
    "        if pq(placelink).attr(\"title\") == placewanted:\n",
    "            placeurl = pq(placelink).attr(\"href\")\n",
    "    if not placeurl:\n",
    "        print(f\"Could not find an entry for {placewanted}. Make sure you have exactly the right spelling from the page.\")\n",
    "        print(starturl)\n",
    "    else:\n",
    "        print(f\"Checking through all pages for {placewanted}\")\n",
    "        r = requests.get(placeurl)\n",
    "        placehtml = r.content\n",
    "        lastpage = int(pq(placehtml)(\"a.page-numbers\")[-1].text)    # Get last page number, convert to an actual number\n",
    "        urlfragmentraw = pq(pq(placehtml)(\"a.page-numbers\")[-1]).attr('href')  # Get the URL for the last page\n",
    "        urlfragment = \"=\".join(urlfragmentraw.split(\"=\")[:-1]) + \"=\"     # Strip everything after the last =\n",
    "        fileswanted = {}\n",
    "        \n",
    "        # Build a set of stuff we need to download\n",
    "        for pagenumber in range(1, lastpage + 1):\n",
    "            r = requests.get(baseurl + urlfragment + str(pagenumber))\n",
    "            pagehtml = r.content\n",
    "            for box in pq(pagehtml)(\"div.ngg-gallery-thumbnail-box\"):\n",
    "                imgurl = pq(box)(\"a\").attr(\"href\")\n",
    "                imgbasefilename = imgurl.split(\"/\")[-1]     # Everything after the last slash is our filename\n",
    "                targetfilename = downloaddir + placewanted + \"/\" + imgbasefilename\n",
    "                if not os.path.exists(targetfilename):    # If we haven't gotten this file yet\n",
    "                    fileswanted[imgurl] = targetfilename\n",
    "        if len(fileswanted) > 0 :\n",
    "            for imgurl in tqdm(fileswanted):\n",
    "                targetfilename = fileswanted[imgurl]\n",
    "                r = requests.get(imgurl)\n",
    "                if r.status_code != 200:\n",
    "                    print(f\"Error downloading {imgurl}\")\n",
    "                else:\n",
    "                    with open(targetfilename, \"wb\") as outfile:\n",
    "                        outfile.write(r.content)"
   ]
  },
  {
   "cell_type": "code",
   "execution_count": null,
   "metadata": {},
   "outputs": [],
   "source": []
  }
 ],
 "metadata": {
  "kernelspec": {
   "display_name": "Python 3",
   "language": "python",
   "name": "python3"
  },
  "language_info": {
   "codemirror_mode": {
    "name": "ipython",
    "version": 3
   },
   "file_extension": ".py",
   "mimetype": "text/x-python",
   "name": "python",
   "nbconvert_exporter": "python",
   "pygments_lexer": "ipython3",
   "version": "3.7.2"
  }
 },
 "nbformat": 4,
 "nbformat_minor": 4
}
